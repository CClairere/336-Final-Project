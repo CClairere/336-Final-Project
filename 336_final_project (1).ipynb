{
  "nbformat": 4,
  "nbformat_minor": 0,
  "metadata": {
    "colab": {
      "name": "336 final project.ipynb",
      "provenance": [],
      "collapsed_sections": [
        "2fdKWWmq6puu"
      ]
    },
    "kernelspec": {
      "name": "python3",
      "display_name": "Python 3"
    },
    "language_info": {
      "name": "python"
    }
  },
  "cells": [
    {
      "cell_type": "markdown",
      "source": [
        "# Import Libaries"
      ],
      "metadata": {
        "id": "3T52-QyrdImk"
      }
    },
    {
      "cell_type": "code",
      "execution_count": null,
      "metadata": {
        "id": "KPDbb35GmbjX"
      },
      "outputs": [],
      "source": [
        "import pandas as pd\n",
        "import numpy as np\n",
        "import matplotlib.pyplot as plt\n",
        "import seaborn as sns\n",
        "from sklearn.linear_model import LogisticRegression\n",
        "from sklearn.model_selection import train_test_split\n",
        "from sklearn.preprocessing import StandardScaler"
      ]
    },
    {
      "cell_type": "code",
      "source": [
        "#load the file\n",
        "df = pd.read_csv(\"heart_2020.csv\")"
      ],
      "metadata": {
        "id": "gnGMtxx_3pw4"
      },
      "execution_count": null,
      "outputs": []
    },
    {
      "cell_type": "markdown",
      "source": [
        "#Data Description"
      ],
      "metadata": {
        "id": "2fdKWWmq6puu"
      }
    },
    {
      "cell_type": "markdown",
      "source": [
        "##Data Checking"
      ],
      "metadata": {
        "id": "wGrpfBMF3mDj"
      }
    },
    {
      "cell_type": "code",
      "source": [
        "#check the columns\n",
        "df.columns"
      ],
      "metadata": {
        "colab": {
          "base_uri": "https://localhost:8080/"
        },
        "id": "IqpdPZqK3wxN",
        "outputId": "79551f88-145d-48fb-896b-116c96713925"
      },
      "execution_count": null,
      "outputs": [
        {
          "output_type": "execute_result",
          "data": {
            "text/plain": [
              "Index(['HeartDisease', 'BMI', 'Smoking', 'AlcoholDrinking', 'Stroke',\n",
              "       'PhysicalHealth', 'MentalHealth', 'DiffWalking', 'Sex', 'AgeCategory',\n",
              "       'Race', 'Diabetic', 'PhysicalActivity', 'GenHealth', 'SleepTime',\n",
              "       'Asthma', 'KidneyDisease', 'SkinCancer'],\n",
              "      dtype='object')"
            ]
          },
          "metadata": {},
          "execution_count": 41
        }
      ]
    },
    {
      "cell_type": "code",
      "source": [
        "#display information about the index dtype and columns, non-null values and memory usage.\n",
        "df.info()"
      ],
      "metadata": {
        "colab": {
          "base_uri": "https://localhost:8080/"
        },
        "id": "H3l9S0un30wV",
        "outputId": "b5ef4539-282f-4237-ad74-1f73984e2b21"
      },
      "execution_count": null,
      "outputs": [
        {
          "output_type": "stream",
          "name": "stdout",
          "text": [
            "<class 'pandas.core.frame.DataFrame'>\n",
            "RangeIndex: 319795 entries, 0 to 319794\n",
            "Data columns (total 18 columns):\n",
            " #   Column            Non-Null Count   Dtype  \n",
            "---  ------            --------------   -----  \n",
            " 0   HeartDisease      319795 non-null  object \n",
            " 1   BMI               319795 non-null  float64\n",
            " 2   Smoking           319795 non-null  object \n",
            " 3   AlcoholDrinking   319795 non-null  object \n",
            " 4   Stroke            319795 non-null  object \n",
            " 5   PhysicalHealth    319795 non-null  int64  \n",
            " 6   MentalHealth      319795 non-null  int64  \n",
            " 7   DiffWalking       319795 non-null  object \n",
            " 8   Sex               319795 non-null  object \n",
            " 9   AgeCategory       319795 non-null  object \n",
            " 10  Race              319795 non-null  object \n",
            " 11  Diabetic          319795 non-null  object \n",
            " 12  PhysicalActivity  319795 non-null  object \n",
            " 13  GenHealth         319795 non-null  object \n",
            " 14  SleepTime         319795 non-null  int64  \n",
            " 15  Asthma            319795 non-null  object \n",
            " 16  KidneyDisease     319795 non-null  object \n",
            " 17  SkinCancer        319795 non-null  object \n",
            "dtypes: float64(1), int64(3), object(14)\n",
            "memory usage: 43.9+ MB\n"
          ]
        }
      ]
    },
    {
      "cell_type": "markdown",
      "source": [
        "As non-null is shown for all columns, there is no null values in the dataset"
      ],
      "metadata": {
        "id": "FUwQZc2j4M07"
      }
    },
    {
      "cell_type": "code",
      "source": [
        "#get the first five rows to check each variable\n",
        "df.head()"
      ],
      "metadata": {
        "colab": {
          "base_uri": "https://localhost:8080/",
          "height": 270
        },
        "id": "ivAgMQE835ED",
        "outputId": "908b4f19-1913-4821-a01a-fef661cf55b4"
      },
      "execution_count": null,
      "outputs": [
        {
          "output_type": "execute_result",
          "data": {
            "text/plain": [
              "  HeartDisease    BMI Smoking AlcoholDrinking Stroke  PhysicalHealth  \\\n",
              "0           No  16.60     Yes              No     No               3   \n",
              "1           No  20.34      No              No    Yes               0   \n",
              "2           No  26.58     Yes              No     No              20   \n",
              "3           No  24.21      No              No     No               0   \n",
              "4           No  23.71      No              No     No              28   \n",
              "\n",
              "   MentalHealth DiffWalking     Sex  AgeCategory   Race Diabetic  \\\n",
              "0            30          No  Female        55-59  White      Yes   \n",
              "1             0          No  Female  80 or older  White       No   \n",
              "2            30          No    Male        65-69  White      Yes   \n",
              "3             0          No  Female        75-79  White       No   \n",
              "4             0         Yes  Female        40-44  White       No   \n",
              "\n",
              "  PhysicalActivity  GenHealth  SleepTime Asthma KidneyDisease SkinCancer  \n",
              "0              Yes  Very good          5    Yes            No        Yes  \n",
              "1              Yes  Very good          7     No            No         No  \n",
              "2              Yes       Fair          8    Yes            No         No  \n",
              "3               No       Good          6     No            No        Yes  \n",
              "4              Yes  Very good          8     No            No         No  "
            ],
            "text/html": [
              "\n",
              "  <div id=\"df-f218434c-fec1-4e48-887b-a79936a4660a\">\n",
              "    <div class=\"colab-df-container\">\n",
              "      <div>\n",
              "<style scoped>\n",
              "    .dataframe tbody tr th:only-of-type {\n",
              "        vertical-align: middle;\n",
              "    }\n",
              "\n",
              "    .dataframe tbody tr th {\n",
              "        vertical-align: top;\n",
              "    }\n",
              "\n",
              "    .dataframe thead th {\n",
              "        text-align: right;\n",
              "    }\n",
              "</style>\n",
              "<table border=\"1\" class=\"dataframe\">\n",
              "  <thead>\n",
              "    <tr style=\"text-align: right;\">\n",
              "      <th></th>\n",
              "      <th>HeartDisease</th>\n",
              "      <th>BMI</th>\n",
              "      <th>Smoking</th>\n",
              "      <th>AlcoholDrinking</th>\n",
              "      <th>Stroke</th>\n",
              "      <th>PhysicalHealth</th>\n",
              "      <th>MentalHealth</th>\n",
              "      <th>DiffWalking</th>\n",
              "      <th>Sex</th>\n",
              "      <th>AgeCategory</th>\n",
              "      <th>Race</th>\n",
              "      <th>Diabetic</th>\n",
              "      <th>PhysicalActivity</th>\n",
              "      <th>GenHealth</th>\n",
              "      <th>SleepTime</th>\n",
              "      <th>Asthma</th>\n",
              "      <th>KidneyDisease</th>\n",
              "      <th>SkinCancer</th>\n",
              "    </tr>\n",
              "  </thead>\n",
              "  <tbody>\n",
              "    <tr>\n",
              "      <th>0</th>\n",
              "      <td>No</td>\n",
              "      <td>16.60</td>\n",
              "      <td>Yes</td>\n",
              "      <td>No</td>\n",
              "      <td>No</td>\n",
              "      <td>3</td>\n",
              "      <td>30</td>\n",
              "      <td>No</td>\n",
              "      <td>Female</td>\n",
              "      <td>55-59</td>\n",
              "      <td>White</td>\n",
              "      <td>Yes</td>\n",
              "      <td>Yes</td>\n",
              "      <td>Very good</td>\n",
              "      <td>5</td>\n",
              "      <td>Yes</td>\n",
              "      <td>No</td>\n",
              "      <td>Yes</td>\n",
              "    </tr>\n",
              "    <tr>\n",
              "      <th>1</th>\n",
              "      <td>No</td>\n",
              "      <td>20.34</td>\n",
              "      <td>No</td>\n",
              "      <td>No</td>\n",
              "      <td>Yes</td>\n",
              "      <td>0</td>\n",
              "      <td>0</td>\n",
              "      <td>No</td>\n",
              "      <td>Female</td>\n",
              "      <td>80 or older</td>\n",
              "      <td>White</td>\n",
              "      <td>No</td>\n",
              "      <td>Yes</td>\n",
              "      <td>Very good</td>\n",
              "      <td>7</td>\n",
              "      <td>No</td>\n",
              "      <td>No</td>\n",
              "      <td>No</td>\n",
              "    </tr>\n",
              "    <tr>\n",
              "      <th>2</th>\n",
              "      <td>No</td>\n",
              "      <td>26.58</td>\n",
              "      <td>Yes</td>\n",
              "      <td>No</td>\n",
              "      <td>No</td>\n",
              "      <td>20</td>\n",
              "      <td>30</td>\n",
              "      <td>No</td>\n",
              "      <td>Male</td>\n",
              "      <td>65-69</td>\n",
              "      <td>White</td>\n",
              "      <td>Yes</td>\n",
              "      <td>Yes</td>\n",
              "      <td>Fair</td>\n",
              "      <td>8</td>\n",
              "      <td>Yes</td>\n",
              "      <td>No</td>\n",
              "      <td>No</td>\n",
              "    </tr>\n",
              "    <tr>\n",
              "      <th>3</th>\n",
              "      <td>No</td>\n",
              "      <td>24.21</td>\n",
              "      <td>No</td>\n",
              "      <td>No</td>\n",
              "      <td>No</td>\n",
              "      <td>0</td>\n",
              "      <td>0</td>\n",
              "      <td>No</td>\n",
              "      <td>Female</td>\n",
              "      <td>75-79</td>\n",
              "      <td>White</td>\n",
              "      <td>No</td>\n",
              "      <td>No</td>\n",
              "      <td>Good</td>\n",
              "      <td>6</td>\n",
              "      <td>No</td>\n",
              "      <td>No</td>\n",
              "      <td>Yes</td>\n",
              "    </tr>\n",
              "    <tr>\n",
              "      <th>4</th>\n",
              "      <td>No</td>\n",
              "      <td>23.71</td>\n",
              "      <td>No</td>\n",
              "      <td>No</td>\n",
              "      <td>No</td>\n",
              "      <td>28</td>\n",
              "      <td>0</td>\n",
              "      <td>Yes</td>\n",
              "      <td>Female</td>\n",
              "      <td>40-44</td>\n",
              "      <td>White</td>\n",
              "      <td>No</td>\n",
              "      <td>Yes</td>\n",
              "      <td>Very good</td>\n",
              "      <td>8</td>\n",
              "      <td>No</td>\n",
              "      <td>No</td>\n",
              "      <td>No</td>\n",
              "    </tr>\n",
              "  </tbody>\n",
              "</table>\n",
              "</div>\n",
              "      <button class=\"colab-df-convert\" onclick=\"convertToInteractive('df-f218434c-fec1-4e48-887b-a79936a4660a')\"\n",
              "              title=\"Convert this dataframe to an interactive table.\"\n",
              "              style=\"display:none;\">\n",
              "        \n",
              "  <svg xmlns=\"http://www.w3.org/2000/svg\" height=\"24px\"viewBox=\"0 0 24 24\"\n",
              "       width=\"24px\">\n",
              "    <path d=\"M0 0h24v24H0V0z\" fill=\"none\"/>\n",
              "    <path d=\"M18.56 5.44l.94 2.06.94-2.06 2.06-.94-2.06-.94-.94-2.06-.94 2.06-2.06.94zm-11 1L8.5 8.5l.94-2.06 2.06-.94-2.06-.94L8.5 2.5l-.94 2.06-2.06.94zm10 10l.94 2.06.94-2.06 2.06-.94-2.06-.94-.94-2.06-.94 2.06-2.06.94z\"/><path d=\"M17.41 7.96l-1.37-1.37c-.4-.4-.92-.59-1.43-.59-.52 0-1.04.2-1.43.59L10.3 9.45l-7.72 7.72c-.78.78-.78 2.05 0 2.83L4 21.41c.39.39.9.59 1.41.59.51 0 1.02-.2 1.41-.59l7.78-7.78 2.81-2.81c.8-.78.8-2.07 0-2.86zM5.41 20L4 18.59l7.72-7.72 1.47 1.35L5.41 20z\"/>\n",
              "  </svg>\n",
              "      </button>\n",
              "      \n",
              "  <style>\n",
              "    .colab-df-container {\n",
              "      display:flex;\n",
              "      flex-wrap:wrap;\n",
              "      gap: 12px;\n",
              "    }\n",
              "\n",
              "    .colab-df-convert {\n",
              "      background-color: #E8F0FE;\n",
              "      border: none;\n",
              "      border-radius: 50%;\n",
              "      cursor: pointer;\n",
              "      display: none;\n",
              "      fill: #1967D2;\n",
              "      height: 32px;\n",
              "      padding: 0 0 0 0;\n",
              "      width: 32px;\n",
              "    }\n",
              "\n",
              "    .colab-df-convert:hover {\n",
              "      background-color: #E2EBFA;\n",
              "      box-shadow: 0px 1px 2px rgba(60, 64, 67, 0.3), 0px 1px 3px 1px rgba(60, 64, 67, 0.15);\n",
              "      fill: #174EA6;\n",
              "    }\n",
              "\n",
              "    [theme=dark] .colab-df-convert {\n",
              "      background-color: #3B4455;\n",
              "      fill: #D2E3FC;\n",
              "    }\n",
              "\n",
              "    [theme=dark] .colab-df-convert:hover {\n",
              "      background-color: #434B5C;\n",
              "      box-shadow: 0px 1px 3px 1px rgba(0, 0, 0, 0.15);\n",
              "      filter: drop-shadow(0px 1px 2px rgba(0, 0, 0, 0.3));\n",
              "      fill: #FFFFFF;\n",
              "    }\n",
              "  </style>\n",
              "\n",
              "      <script>\n",
              "        const buttonEl =\n",
              "          document.querySelector('#df-f218434c-fec1-4e48-887b-a79936a4660a button.colab-df-convert');\n",
              "        buttonEl.style.display =\n",
              "          google.colab.kernel.accessAllowed ? 'block' : 'none';\n",
              "\n",
              "        async function convertToInteractive(key) {\n",
              "          const element = document.querySelector('#df-f218434c-fec1-4e48-887b-a79936a4660a');\n",
              "          const dataTable =\n",
              "            await google.colab.kernel.invokeFunction('convertToInteractive',\n",
              "                                                     [key], {});\n",
              "          if (!dataTable) return;\n",
              "\n",
              "          const docLinkHtml = 'Like what you see? Visit the ' +\n",
              "            '<a target=\"_blank\" href=https://colab.research.google.com/notebooks/data_table.ipynb>data table notebook</a>'\n",
              "            + ' to learn more about interactive tables.';\n",
              "          element.innerHTML = '';\n",
              "          dataTable['output_type'] = 'display_data';\n",
              "          await google.colab.output.renderOutput(dataTable, element);\n",
              "          const docLink = document.createElement('div');\n",
              "          docLink.innerHTML = docLinkHtml;\n",
              "          element.appendChild(docLink);\n",
              "        }\n",
              "      </script>\n",
              "    </div>\n",
              "  </div>\n",
              "  "
            ]
          },
          "metadata": {},
          "execution_count": 8
        }
      ]
    },
    {
      "cell_type": "code",
      "source": [
        "#illustrate HeartDisease by using histogram\n",
        "df[\"HeartDisease\"].value_counts().plot(kind=\"pie\").set_title(\"HeartDisease\")\n",
        "plt.show()\n",
        "\n",
        "#check the proportion of \"Yes\" and \"No\" in HeartDisease \n",
        "Yes_Value = df['HeartDisease'].value_counts()[1]/len(df)*100\n",
        "print(f\"\\nThe proportion of \\\"Yes\\\" Value is {'%.2f' %(Yes_Value)}% and the proportion of \\\"No\\\" value is {'%.2f' %(100-Yes_Value)}%\")"
      ],
      "metadata": {
        "id": "n0ILFGKK36m2"
      },
      "execution_count": null,
      "outputs": []
    },
    {
      "cell_type": "markdown",
      "source": [
        "The data of people who have heart disease is only 8.56% of the whole dataset, which showcases that the dataset is unbalanced."
      ],
      "metadata": {
        "id": "671v8NST3_H1"
      }
    },
    {
      "cell_type": "markdown",
      "source": [
        "## Data Visualization"
      ],
      "metadata": {
        "id": "RoBQ_ofE4vGg"
      }
    },
    {
      "cell_type": "code",
      "source": [
        "def pie_chart(variable):\n",
        "    fig,axes = plt.subplots(1,2,figsize=(20,8), dpi=80)\n",
        "    labels = df[variable].unique()\n",
        "    axes[0].pie(df[df.HeartDisease==\"No\"][variable].value_counts(), labels=labels, autopct='%1.1f%%')\n",
        "    axes[0].set_title('Heart Disease[No]',fontsize=20)\n",
        "    axes[1].pie(df[df.HeartDisease==\"Yes\"][variable].value_counts(), labels=labels, autopct='%1.1f%%')\n",
        "    axes[1].set_title('Heart Disease[Yes]',fontsize=20)\n",
        "\n",
        "    plt.legend(title = variable, fontsize=10, title_fontsize=10)\n",
        "    plt.show()"
      ],
      "metadata": {
        "id": "FTAu8I1gP8wC"
      },
      "execution_count": null,
      "outputs": []
    },
    {
      "cell_type": "markdown",
      "source": [
        "**Binary columns**"
      ],
      "metadata": {
        "id": "HByuEyvp5ESy"
      }
    },
    {
      "cell_type": "markdown",
      "source": [
        "`['Smoking', 'AlcoholDrinking', 'Stroke', 'DiffWalking', 'Diabetic',\t'PhysicalActivity', 'Asthma', 'KidneyDisease', 'SkinCancer']`"
      ],
      "metadata": {
        "id": "R_M76wOUCvG0"
      }
    },
    {
      "cell_type": "code",
      "source": [
        "bi_var = ['Smoking', 'AlcoholDrinking', 'Stroke', 'DiffWalking', 'Diabetic',\t'PhysicalActivity', 'Asthma', 'KidneyDisease', 'SkinCancer', 'Sex']\n",
        "for var in bi_var:\n",
        "  pie_chart(var)"
      ],
      "metadata": {
        "id": "49-nuNSBD3hW"
      },
      "execution_count": null,
      "outputs": []
    },
    {
      "cell_type": "markdown",
      "source": [
        "**Categprical Columns**"
      ],
      "metadata": {
        "id": "8qeaZ64gJ95A"
      }
    },
    {
      "cell_type": "markdown",
      "source": [
        "`[\"Race\", \"GenHealth\", \"AgeCategory\"]`"
      ],
      "metadata": {
        "id": "UXV-aWgeKuFA"
      }
    },
    {
      "cell_type": "code",
      "source": [
        "ca_var = [\"Race\", \"GenHealth\", \"AgeCategory\"]\n",
        "for var in ca_var:\n",
        "  pie_chart(var)"
      ],
      "metadata": {
        "id": "mt3Zx8UVJ9q7"
      },
      "execution_count": null,
      "outputs": []
    },
    {
      "cell_type": "markdown",
      "source": [
        "**Numerical Columns**"
      ],
      "metadata": {
        "id": "WXdml2XkLI-P"
      }
    },
    {
      "cell_type": "markdown",
      "source": [
        "`[\"BMI\", \"SleepTime\", \"PhysicalHealth\", \"MentalHealth\"]`"
      ],
      "metadata": {
        "id": "BxW2xRRALzIe"
      }
    },
    {
      "cell_type": "code",
      "source": [
        "nu_var = [\"BMI\", \"SleepTime\", \"PhysicalHealth\", \"MentalHealth\"]\n",
        "for var in nu_var:\n",
        "  fig = plt.figure(figsize=(20,10))   \n",
        "  sns.kdeplot(data=df, x=df[var], hue=df[\"HeartDisease\"],fill=True)\n",
        "  plt.show()"
      ],
      "metadata": {
        "id": "LVdo2Fj-LMQt"
      },
      "execution_count": null,
      "outputs": []
    },
    {
      "cell_type": "markdown",
      "source": [
        "**Correlation Matrix**"
      ],
      "metadata": {
        "id": "wk8an7Ndg3PW"
      }
    },
    {
      "cell_type": "code",
      "source": [
        "fig = plt.figure(figsize=(20,10))\n",
        "corrMatrix = df.corr()\n",
        "sns.heatmap(corrMatrix, annot=True)\n",
        "plt.show()"
      ],
      "metadata": {
        "id": "mY30-Ddige4S"
      },
      "execution_count": null,
      "outputs": []
    },
    {
      "cell_type": "markdown",
      "source": [
        "Determine how one variable moves/changes in relation with the other variable."
      ],
      "metadata": {
        "id": "aCLc8mZ9g_4t"
      }
    },
    {
      "cell_type": "markdown",
      "source": [
        "# Data Preprocessing"
      ],
      "metadata": {
        "id": "nhHt242vCoCw"
      }
    },
    {
      "cell_type": "code",
      "source": [
        "df.shape #(319795, 18)\n",
        "\n",
        "#Remove duplicates\n",
        "df.drop_duplicates()\n",
        "\n",
        "df.shape  #(319795, 18), which shows no duplicates\n",
        "\n",
        "\n",
        "#make categorical variables with \"Yes/No\" to numerical \"1/0\"  \n",
        "columns = ['HeartDisease','Smoking', 'AlcoholDrinking', 'Stroke', 'DiffWalking', 'Diabetic',\t'PhysicalActivity', 'Asthma', 'KidneyDisease', 'SkinCancer']\n",
        "\n",
        "for column in columns:\n",
        "  df = df.replace({column: {'Yes': 1, 'No': 0, 'Yes (during pregnancy)':1, 'No, borderline diabetes': 0}}) \n",
        "\n",
        "#Create dummy variables for Sex, AgeCategory, Race, and GenHealth\n",
        "dummy_Sex = pd.get_dummies(df.Sex, prefix=\"Sex\")\n",
        "dummy_Race = pd.get_dummies(df.Race, prefix=\"Race\")\n",
        "dummy_GenHealth = pd.get_dummies(df.GenHealth, prefix=\"GenHealth\")\n",
        "dummy_AgeCategory = pd.get_dummies(df.AgeCategory, prefix=\"AgeCategory\")"
      ],
      "metadata": {
        "id": "kF1v6kzhFj8s"
      },
      "execution_count": null,
      "outputs": []
    },
    {
      "cell_type": "code",
      "source": [
        "#load dataset\n",
        "X = df[['BMI', 'Stroke','PhysicalHealth', 'MentalHealth', \"Asthma\",\n",
        "        'DiffWalking', 'Diabetic', 'PhysicalActivity', 'SleepTime',\n",
        "        'KidneyDisease', 'SkinCancer']]\n",
        "       \n",
        "y = df['HeartDisease']\n",
        "\n",
        "#Add dummies into X\n",
        "X = X.join(dummy_Sex)\n",
        "X = X.join(dummy_AgeCategory) \n",
        "X = X.join(dummy_Race)\n",
        "X = X.join(dummy_GenHealth)\n",
        "\n",
        "#show the result \n",
        "X.info()\n",
        "\n",
        "#split the data\n",
        "Xtrain, Xtest, ytrain, ytest = train_test_split(X, y, test_size=0.3, random_state=0)\n",
        "\n",
        "#standardize our independent variables\n",
        "scaler = StandardScaler()\n",
        "X_std = scaler.fit_transform(Xtrain)\n",
        "Xtest_std = scaler.fit_transform(Xtest)"
      ],
      "metadata": {
        "id": "gI8E6PovlL0I",
        "colab": {
          "base_uri": "https://localhost:8080/"
        },
        "outputId": "b2d718b4-841c-499b-a10a-363057f1d86f"
      },
      "execution_count": null,
      "outputs": [
        {
          "output_type": "stream",
          "name": "stdout",
          "text": [
            "<class 'pandas.core.frame.DataFrame'>\n",
            "RangeIndex: 319795 entries, 0 to 319794\n",
            "Data columns (total 37 columns):\n",
            " #   Column                               Non-Null Count   Dtype  \n",
            "---  ------                               --------------   -----  \n",
            " 0   BMI                                  319795 non-null  float64\n",
            " 1   Stroke                               319795 non-null  int64  \n",
            " 2   PhysicalHealth                       319795 non-null  int64  \n",
            " 3   MentalHealth                         319795 non-null  int64  \n",
            " 4   Asthma                               319795 non-null  int64  \n",
            " 5   DiffWalking                          319795 non-null  int64  \n",
            " 6   Diabetic                             319795 non-null  int64  \n",
            " 7   PhysicalActivity                     319795 non-null  int64  \n",
            " 8   SleepTime                            319795 non-null  int64  \n",
            " 9   KidneyDisease                        319795 non-null  int64  \n",
            " 10  SkinCancer                           319795 non-null  int64  \n",
            " 11  Sex_Female                           319795 non-null  uint8  \n",
            " 12  Sex_Male                             319795 non-null  uint8  \n",
            " 13  AgeCategory_18-24                    319795 non-null  uint8  \n",
            " 14  AgeCategory_25-29                    319795 non-null  uint8  \n",
            " 15  AgeCategory_30-34                    319795 non-null  uint8  \n",
            " 16  AgeCategory_35-39                    319795 non-null  uint8  \n",
            " 17  AgeCategory_40-44                    319795 non-null  uint8  \n",
            " 18  AgeCategory_45-49                    319795 non-null  uint8  \n",
            " 19  AgeCategory_50-54                    319795 non-null  uint8  \n",
            " 20  AgeCategory_55-59                    319795 non-null  uint8  \n",
            " 21  AgeCategory_60-64                    319795 non-null  uint8  \n",
            " 22  AgeCategory_65-69                    319795 non-null  uint8  \n",
            " 23  AgeCategory_70-74                    319795 non-null  uint8  \n",
            " 24  AgeCategory_75-79                    319795 non-null  uint8  \n",
            " 25  AgeCategory_80 or older              319795 non-null  uint8  \n",
            " 26  Race_American Indian/Alaskan Native  319795 non-null  uint8  \n",
            " 27  Race_Asian                           319795 non-null  uint8  \n",
            " 28  Race_Black                           319795 non-null  uint8  \n",
            " 29  Race_Hispanic                        319795 non-null  uint8  \n",
            " 30  Race_Other                           319795 non-null  uint8  \n",
            " 31  Race_White                           319795 non-null  uint8  \n",
            " 32  GenHealth_Excellent                  319795 non-null  uint8  \n",
            " 33  GenHealth_Fair                       319795 non-null  uint8  \n",
            " 34  GenHealth_Good                       319795 non-null  uint8  \n",
            " 35  GenHealth_Poor                       319795 non-null  uint8  \n",
            " 36  GenHealth_Very good                  319795 non-null  uint8  \n",
            "dtypes: float64(1), int64(10), uint8(26)\n",
            "memory usage: 34.8 MB\n"
          ]
        }
      ]
    },
    {
      "cell_type": "markdown",
      "source": [
        "# Logistic Regression"
      ],
      "metadata": {
        "id": "Z2L1ZjUsCvka"
      }
    },
    {
      "cell_type": "markdown",
      "source": [
        "accuracy"
      ],
      "metadata": {
        "id": "KmlSnVAStdlJ"
      }
    },
    {
      "cell_type": "code",
      "source": [
        "lr = LogisticRegression(random_state=0)\n",
        "\n",
        "#training\n",
        "lr.fit(X_std, ytrain)\n",
        "\n",
        "#testing\n",
        "print(lr.score(Xtest_std, ytest))"
      ],
      "metadata": {
        "id": "y104u15UCv5h",
        "colab": {
          "base_uri": "https://localhost:8080/"
        },
        "outputId": "a0a0e627-73c2-4539-9622-faa992276eaa"
      },
      "execution_count": null,
      "outputs": [
        {
          "output_type": "stream",
          "name": "stdout",
          "text": [
            "0.9156964321079019\n"
          ]
        }
      ]
    },
    {
      "cell_type": "markdown",
      "source": [
        "**Independent Variables Coefficient**"
      ],
      "metadata": {
        "id": "z9Xj1N7Ajf3_"
      }
    },
    {
      "cell_type": "code",
      "source": [
        "for z in range(len(X.columns)):\n",
        "  print ('{0:40} {1:100}'.format(X.columns[z], str('%.8f'%(lr.coef_[0][z]))))"
      ],
      "metadata": {
        "colab": {
          "base_uri": "https://localhost:8080/"
        },
        "id": "Ikj96synqZDE",
        "outputId": "1efadb3e-5cd7-4dee-a5d5-dd1b229c226b"
      },
      "execution_count": null,
      "outputs": [
        {
          "output_type": "stream",
          "name": "stdout",
          "text": [
            "BMI                                      0.05401812                                                                                          \n",
            "Stroke                                   0.20249526                                                                                          \n",
            "PhysicalHealth                           0.02526520                                                                                          \n",
            "MentalHealth                             0.04583937                                                                                          \n",
            "Asthma                                   0.09736122                                                                                          \n",
            "DiffWalking                              0.07724821                                                                                          \n",
            "Diabetic                                 0.15085887                                                                                          \n",
            "PhysicalActivity                         0.00477449                                                                                          \n",
            "SleepTime                                -0.03593730                                                                                         \n",
            "KidneyDisease                            0.10613282                                                                                          \n",
            "SkinCancer                               0.03189601                                                                                          \n",
            "Sex_Female                               -0.19072507                                                                                         \n",
            "Sex_Male                                 0.19072507                                                                                          \n",
            "AgeCategory_18-24                        -0.45243062                                                                                         \n",
            "AgeCategory_25-29                        -0.35867678                                                                                         \n",
            "AgeCategory_30-34                        -0.28687701                                                                                         \n",
            "AgeCategory_35-39                        -0.28961661                                                                                         \n",
            "AgeCategory_40-44                        -0.18511561                                                                                         \n",
            "AgeCategory_45-49                        -0.11094665                                                                                         \n",
            "AgeCategory_50-54                        -0.01524443                                                                                         \n",
            "AgeCategory_55-59                        0.06917029                                                                                          \n",
            "AgeCategory_60-64                        0.15217902                                                                                          \n",
            "AgeCategory_65-69                        0.22581797                                                                                          \n",
            "AgeCategory_70-74                        0.30455160                                                                                          \n",
            "AgeCategory_75-79                        0.31498246                                                                                          \n",
            "AgeCategory_80 or older                  0.39208440                                                                                          \n",
            "Race_American Indian/Alaskan Native      0.03216994                                                                                          \n",
            "Race_Asian                               -0.05638100                                                                                         \n",
            "Race_Black                               -0.04130885                                                                                         \n",
            "Race_Hispanic                            -0.02683263                                                                                         \n",
            "Race_Other                               0.01987944                                                                                          \n",
            "Race_White                               0.04573602                                                                                          \n",
            "GenHealth_Excellent                      -0.30890216                                                                                         \n",
            "GenHealth_Fair                           0.25610438                                                                                          \n",
            "GenHealth_Good                           0.14717448                                                                                          \n",
            "GenHealth_Poor                           0.22122206                                                                                          \n",
            "GenHealth_Very good                      -0.12822297                                                                                         \n"
          ]
        }
      ]
    },
    {
      "cell_type": "markdown",
      "source": [
        "**Numerical Variables**"
      ],
      "metadata": {
        "id": "03OzQNmFkG1d"
      }
    },
    {
      "cell_type": "code",
      "source": [
        "def addlabels(x,y):\n",
        "    for i in range(len(x)):\n",
        "        plt.text(i, y[i], y[i], ha = 'center',\n",
        "                 Bbox = dict(facecolor = 'red', alpha =.8))\n",
        "\n",
        "data = {}\n",
        "for z in range(11):\n",
        "  data.update({X.columns[z]:round(lr.coef_[0][z],3)})\n",
        "courses = list(data.keys())\n",
        "values = list(data.values())\n",
        "  \n",
        "fig = plt.figure(figsize = (20, 15))\n",
        " \n",
        "# creating the bar plot\n",
        "plt.bar(courses, values, width = 0.4)\n",
        "addlabels(courses, values)\n",
        "plt.ylabel(\"Coefficient Value\")\n",
        "plt.title(\"Coefficient of Binary & Numerical Variables\")\n",
        "plt.show()"
      ],
      "metadata": {
        "id": "rc8b_qrChhxV"
      },
      "execution_count": null,
      "outputs": []
    },
    {
      "cell_type": "markdown",
      "source": [
        "**Sex**"
      ],
      "metadata": {
        "id": "SAocMaGTohOV"
      }
    },
    {
      "cell_type": "code",
      "source": [
        "data = {}\n",
        "for z in range(11,13):\n",
        "  data.update({X.columns[z]:round(lr.coef_[0][z],3)})\n",
        "courses = list(data.keys())\n",
        "values = list(data.values())\n",
        "  \n",
        "fig = plt.figure(figsize = (5, 5))\n",
        " \n",
        "# creating the bar plot\n",
        "plt.bar(courses, values, width = 0.4)\n",
        "addlabels(courses, values)\n",
        "plt.ylabel(\"Coefficient Value\")\n",
        "plt.title(\"Coefficient of Sex\")\n",
        "plt.show()"
      ],
      "metadata": {
        "id": "l8wFzdAsofts"
      },
      "execution_count": null,
      "outputs": []
    },
    {
      "cell_type": "markdown",
      "source": [
        ""
      ],
      "metadata": {
        "id": "22UiUMjNqTLM"
      }
    },
    {
      "cell_type": "code",
      "source": [
        "data = {}\n",
        "for z in range(13,26):\n",
        "  data.update({X.columns[z]:round(lr.coef_[0][z],3)})\n",
        "courses = list(data.keys())\n",
        "values = list(data.values())\n",
        "  \n",
        "fig = plt.figure(figsize = (30, 15))\n",
        " \n",
        "# creating the bar plot\n",
        "plt.bar(courses, values, width = 0.4)\n",
        "addlabels(courses, values)\n",
        "plt.ylabel(\"Coefficient Value\")\n",
        "plt.title(\"Coefficient of AgeCategory\")\n",
        "plt.show()"
      ],
      "metadata": {
        "id": "SWiyH9T6qGQ6"
      },
      "execution_count": null,
      "outputs": []
    },
    {
      "cell_type": "code",
      "source": [
        "data = {}\n",
        "for z in range(27,32):\n",
        "  data.update({X.columns[z]:round(lr.coef_[0][z],3)})\n",
        "courses = list(data.keys())\n",
        "values = list(data.values())\n",
        "  \n",
        "fig = plt.figure(figsize = (20, 15))\n",
        " \n",
        "# creating the bar plot\n",
        "plt.bar(courses, values, width = 0.4)\n",
        "addlabels(courses, values)\n",
        "plt.ylabel(\"Coefficient Value\")\n",
        "plt.title(\"Coefficient of Race\")\n",
        "plt.show()"
      ],
      "metadata": {
        "id": "W41ScqVgo0HQ"
      },
      "execution_count": null,
      "outputs": []
    },
    {
      "cell_type": "code",
      "source": [
        "data = {}\n",
        "for z in range(33,37):\n",
        "  data.update({X.columns[z]:round(lr.coef_[0][z],3)})\n",
        "courses = list(data.keys())\n",
        "values = list(data.values())\n",
        "  \n",
        "fig = plt.figure(figsize = (20, 15))\n",
        " \n",
        "# creating the bar plot\n",
        "plt.bar(courses, values, width = 0.4)\n",
        "addlabels(courses, values)\n",
        "plt.ylabel(\"Coefficient Value\")\n",
        "plt.title(\"Coefficient of GenHealth\")\n",
        "plt.show()"
      ],
      "metadata": {
        "id": "-LBOjIm-o0w1"
      },
      "execution_count": null,
      "outputs": []
    },
    {
      "cell_type": "markdown",
      "source": [
        "# Testing"
      ],
      "metadata": {
        "id": "Pa43PdRHrwo_"
      }
    },
    {
      "cell_type": "code",
      "source": [
        "Asian_Male = [[25.7, 0, 23, 25, \n",
        "                  0, 0, 0, 1, 8, 0, 0, \n",
        "                  0, 1, \n",
        "                  1, 0, 0, 0, 0, 0, 0, 0, 0, 0, 0, 0, 0, \n",
        "                  0, 1, 0, 0, 0, 0, \n",
        "                  0, 0, 0, 0, 1]]\n",
        "\n",
        "AmericanIndian_Male = [[25.7, 0, 23, 25, \n",
        "                  0, 0, 0, 1, 8, 0, 0, \n",
        "                  0, 1, \n",
        "                  1, 0, 0, 0, 0, 0, 0, 0, 0, 0, 0, 0, 0, \n",
        "                  1, 0, 0, 0, 0, 0, \n",
        "                  0, 0, 0, 0, 1]]\n",
        "\n",
        "White_Male = [[33.1, 0, 15, 28, \n",
        "                 0, 1, 1, 1, 9, 0, 0, \n",
        "                 0, 1, \n",
        "                 0, 0, 0, 0, 0, 0, 1, 0, 0, 0, 0, 0, 0, \n",
        "                 0, 0, 0, 0, 0, 1, \n",
        "                 0, 0, 0, 1, 0]]\n",
        "\n",
        "White_Female = [[33.1, 0, 15, 28, \n",
        "                          0, 1, 1, 1, 9, 0, 0, \n",
        "                          1, 0, \n",
        "                          0, 0, 0, 0, 0, 0, 1, 0, 0, 0, 0, 0, 0, \n",
        "                          0, 0, 0, 0, 0, 1, \n",
        "                          0, 0, 0, 1, 0]]\n",
        "\n",
        "White_Female_GenHealth = [[33.1, 0, 15, 28, \n",
        "                 0, 1, 1, 1, 9, 0, 0, \n",
        "                 1, 0, \n",
        "                 0, 0, 0, 0, 0, 0, 1, 0, 0, 0, 0, 0, 0, \n",
        "                 0, 0, 0, 0, 0, 1, \n",
        "                 0, 0, 1, 0, 0]]\n",
        "\n",
        "print(f\"The Asian man has {('%.2f' %(lr.predict_proba(Asian_Male)[:,1]*100))}% chance to get heart disease\")\n",
        "print(f\"The American Indian man has {('%.2f' %(lr.predict_proba(AmericanIndian_Male)[:,1]*100))}% chance to get heart disease\")\n",
        "print(f\"The white man has {('%.2f' %(lr.predict_proba(White_Male)[:,1]*100))}% chance to get heart disease\")\n",
        "print(f\"The white woman Phoenix has {('%.2f' %(lr.predict_proba(White_Female)[:,1]*100))}% chance to get heart disease\")\n",
        "print(f\"The white woman Phoenix with good GenHealth has {('%.2f' %(lr.predict_proba(White_Female_GenHealth)[:,1]*100))}% chance to get heart disease\")"
      ],
      "metadata": {
        "colab": {
          "base_uri": "https://localhost:8080/"
        },
        "id": "ZolQMy0Or6E-",
        "outputId": "966e0e87-f3cc-411b-e9f7-935d14b2c607"
      },
      "execution_count": null,
      "outputs": [
        {
          "output_type": "stream",
          "name": "stdout",
          "text": [
            "The Asian man has 31.55% chance to get heart disease\n",
            "The American Indian man has 33.50% chance to get heart disease\n",
            "The white man has 65.51% chance to get heart disease\n",
            "The white woman Phoenix has 56.47% chance to get heart disease\n",
            "The white woman Phoenix with fair GenHealth has 54.64% chance to get heart disease\n"
          ]
        }
      ]
    }
  ]
}